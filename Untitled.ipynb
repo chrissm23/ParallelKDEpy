{
 "cells": [
  {
   "cell_type": "markdown",
   "id": "65eb83ff-9071-4291-a70a-13f75141ad75",
   "metadata": {},
   "source": [
    "# Test wrapper with CUDA in a loop"
   ]
  },
  {
   "cell_type": "code",
   "execution_count": 1,
   "id": "c7291769-dd32-4892-8ee1-901159274783",
   "metadata": {},
   "outputs": [
    {
     "name": "stdout",
     "output_type": "stream",
     "text": [
      "Detected IPython. Loading juliacall extension. See https://juliapy.github.io/PythonCall.jl/stable/compat/#IPython\n"
     ]
    }
   ],
   "source": [
    "import numpy as np\n",
    "from scipy.stats import multivariate_normal\n",
    "\n",
    "import parallelkdepy as pkde\n",
    "\n",
    "from tqdm.notebook import trange"
   ]
  },
  {
   "cell_type": "code",
   "execution_count": 2,
   "id": "d2f061d4-2061-46d5-8973-530769743a29",
   "metadata": {},
   "outputs": [],
   "source": [
    "def get_distro(mean=[0, 0], cov=np.eye(2)):\n",
    "    return multivariate_normal(mean=mean, cov=cov)"
   ]
  },
  {
   "cell_type": "code",
   "execution_count": 3,
   "id": "90c7728d-3700-404f-98e9-c09e09575753",
   "metadata": {},
   "outputs": [],
   "source": [
    "def sample_distro(distro, n_samples):\n",
    "    return distro.rvs(size=n_samples)"
   ]
  },
  {
   "cell_type": "code",
   "execution_count": 4,
   "id": "d1a074f3-a802-4ee5-baa9-708e6e29c06f",
   "metadata": {},
   "outputs": [],
   "source": [
    "def create_grid(n_points, lb=-8, hb=8):\n",
    "    grid = pkde.Grid(2*[(lb, hb, n_points)], device=\"cuda\")\n",
    "\n",
    "    return grid"
   ]
  },
  {
   "cell_type": "code",
   "execution_count": 5,
   "id": "2255a03e-1fe1-4bd5-9571-1f66384eb7ab",
   "metadata": {},
   "outputs": [],
   "source": [
    "def estimate_density(data, grid):\n",
    "    density_estimation = pkde.DensityEstimation(data, grid=grid, device=\"cuda\")\n",
    "    density_estimation.estimate_density(\"parallelEstimator\", method=\"cuda\")\n",
    "    density_estimated = density_estimation.get_density()\n",
    "\n",
    "    return density_estimated"
   ]
  },
  {
   "cell_type": "markdown",
   "id": "f24a7d6a-5049-4421-982b-86a85818e38d",
   "metadata": {},
   "source": [
    "## Compile"
   ]
  },
  {
   "cell_type": "code",
   "execution_count": 6,
   "id": "4b500ed9-3f24-4c22-8641-a6fa23f1112c",
   "metadata": {},
   "outputs": [],
   "source": [
    "n_points = 500\n",
    "grid = create_grid(n_points)"
   ]
  },
  {
   "cell_type": "code",
   "execution_count": 7,
   "id": "e13763c9-68c9-4193-8833-d4eb3ed87b4e",
   "metadata": {},
   "outputs": [],
   "source": [
    "distro = get_distro()\n",
    "\n",
    "n_samples = 100000\n",
    "samples = sample_distro(distro, n_samples)"
   ]
  },
  {
   "cell_type": "code",
   "execution_count": 8,
   "id": "ebdab553-ef07-441a-a5a8-75a12f0c2710",
   "metadata": {},
   "outputs": [],
   "source": [
    "estimate_density(samples, grid);"
   ]
  },
  {
   "cell_type": "markdown",
   "id": "da52c1df-600b-4bfd-9ac3-813eb991b1a7",
   "metadata": {},
   "source": [
    "## Run Loop"
   ]
  },
  {
   "cell_type": "code",
   "execution_count": 9,
   "id": "4df98a74-ae67-4559-a6ec-1bd62d0a4575",
   "metadata": {},
   "outputs": [
    {
     "data": {
      "application/vnd.jupyter.widget-view+json": {
       "model_id": "7dfa766b10344de3a3df0013c96b1969",
       "version_major": 2,
       "version_minor": 0
      },
      "text/plain": [
       "Estimating in a loop...:   0%|          | 0/1000 [00:00<?, ?it/s]"
      ]
     },
     "metadata": {},
     "output_type": "display_data"
    }
   ],
   "source": [
    "n_points = 500\n",
    "n_samples = 100000\n",
    "n_reps = 1000\n",
    "\n",
    "grid = create_grid(n_points)\n",
    "distro = get_distro()\n",
    "\n",
    "for _ in trange(n_reps, desc=\"Estimating in a loop...\"):\n",
    "    samples = sample_distro(distro, n_samples)\n",
    "    density_estimated = estimate_density(samples, grid)\n",
    "\n",
    "    density_estimated += 1.0 # Do something to the array to check if that causes it to crash"
   ]
  }
 ],
 "metadata": {
  "kernelspec": {
   "display_name": "Python [conda env:py312_parallelkde]",
   "language": "python",
   "name": "conda-env-py312_parallelkde-py"
  },
  "language_info": {
   "codemirror_mode": {
    "name": "ipython",
    "version": 3
   },
   "file_extension": ".py",
   "mimetype": "text/x-python",
   "name": "python",
   "nbconvert_exporter": "python",
   "pygments_lexer": "ipython3",
   "version": "3.12.11"
  }
 },
 "nbformat": 4,
 "nbformat_minor": 5
}
