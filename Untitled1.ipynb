{
 "cells": [
  {
   "cell_type": "markdown",
   "id": "bc971250-abd6-4e5a-a8e9-b01e22b1bb6f",
   "metadata": {},
   "source": [
    "# Test wrapper so it crashes"
   ]
  },
  {
   "cell_type": "code",
   "execution_count": 1,
   "id": "b57cd166-293a-4548-b89c-31efe1051fef",
   "metadata": {},
   "outputs": [
    {
     "name": "stdout",
     "output_type": "stream",
     "text": [
      "Detected IPython. Loading juliacall extension. See https://juliapy.github.io/PythonCall.jl/stable/compat/#IPython\n"
     ]
    }
   ],
   "source": [
    "from tqdm.notebook import tqdm, trange\n",
    "\n",
    "import numpy as np\n",
    "import pandas as pd\n",
    "\n",
    "import matplotlib\n",
    "import matplotlib.pyplot as plt\n",
    "\n",
    "from scipy.stats import multivariate_normal\n",
    "from scipy.constants import k as k_B\n",
    "\n",
    "from scipy.stats import gaussian_kde\n",
    "\n",
    "import parallelkdepy as pkde"
   ]
  },
  {
   "cell_type": "markdown",
   "id": "c355ae3c-8cbc-4eba-ac5e-45a0c52d9d0a",
   "metadata": {
    "jp-MarkdownHeadingCollapsed": true
   },
   "source": [
    "## Import data"
   ]
  },
  {
   "cell_type": "code",
   "execution_count": 2,
   "id": "20d75171-bc7d-4689-9d18-de4314a6083a",
   "metadata": {},
   "outputs": [],
   "source": [
    "data = np.load(\"alanine-dipeptide-3x250ns-backbone-dihedrals.npz\")\n",
    "samples_all = np.vstack([data[\"arr_0\"], data[\"arr_1\"], data[\"arr_2\"]])"
   ]
  },
  {
   "cell_type": "code",
   "execution_count": 3,
   "id": "1d5255a7-45a1-4125-9ae6-f7880d5cd7ab",
   "metadata": {},
   "outputs": [],
   "source": [
    "mask_train = np.ones(samples_all.shape[0], dtype=bool)\n",
    "mask_train[::3] = False\n",
    "samples_train = samples_all[mask_train, :]\n",
    "samples_test = samples_all[~mask_train, :]"
   ]
  },
  {
   "cell_type": "markdown",
   "id": "0d3c1749-a822-4824-8a64-aeb9ab689a3c",
   "metadata": {
    "jp-MarkdownHeadingCollapsed": true
   },
   "source": [
    "## Functions"
   ]
  },
  {
   "cell_type": "code",
   "execution_count": 4,
   "id": "2a521cbf-bd91-4090-96de-c27ef71e786b",
   "metadata": {},
   "outputs": [],
   "source": [
    "def iter_to_stepsize(idx):\n",
    "    return 2**idx"
   ]
  },
  {
   "cell_type": "code",
   "execution_count": 5,
   "id": "ff44192b-e7d7-481a-a6bc-eb2cdda29a3c",
   "metadata": {},
   "outputs": [],
   "source": [
    "def subsample_shuffle(step_size):\n",
    "    samples_copy = samples_train.copy()\n",
    "    np.random.shuffle(samples_copy)\n",
    "    return samples_copy[::step_size]"
   ]
  },
  {
   "cell_type": "code",
   "execution_count": 6,
   "id": "8dfee65d-6eaf-41a8-bd3c-13e84652b620",
   "metadata": {},
   "outputs": [],
   "source": [
    "def generate_grid(n_points):\n",
    "    grid_ranges = [(-np.pi, np.pi, n_points)] * 2\n",
    "    grid = pkde.Grid(grid_ranges, device=\"cuda\")\n",
    "\n",
    "    return grid"
   ]
  },
  {
   "cell_type": "code",
   "execution_count": 7,
   "id": "6df7eeae-1295-41c7-a493-3947fc18e79f",
   "metadata": {},
   "outputs": [],
   "source": [
    "def estimate_density(samples, grid, method):\n",
    "    if method == \"pkde\":\n",
    "        density_estimation = pkde.DensityEstimation(\n",
    "            samples, grid=grid, device=\"cuda\"\n",
    "        )\n",
    "        density_estimation.estimate_density(\"parallelEstimator\")\n",
    "        density_estimated = density_estimation.get_density()\n",
    "        \n",
    "    elif method == \"scipy\":\n",
    "        grid_mesh = grid.to_meshgrid()\n",
    "        grid_array = np.vstack([x.ravel() for x in grid_mesh])\n",
    "        \n",
    "        kernel = gaussian_kde(samples.T)\n",
    "        density_estimated = np.reshape(kernel(grid_array).T, grid.shape)\n",
    "\n",
    "    else:\n",
    "        raise ValueError(\"Method must be one of 'pkde' or 'scipy'.\")\n",
    "\n",
    "    return density_estimated"
   ]
  },
  {
   "cell_type": "code",
   "execution_count": 8,
   "id": "e5075275-8ed1-4d6a-95d2-3cd809e7c5c8",
   "metadata": {},
   "outputs": [],
   "source": [
    "def get_piecewise_density(density, grid):\n",
    "    grid_area = np.prod(grid.step())\n",
    "    \n",
    "    density_piecewise = density[:-1, :-1]\n",
    "    density_piecewise *= grid_area\n",
    "    density_piecewise /= density_piecewise.sum()\n",
    "\n",
    "    return density_piecewise"
   ]
  },
  {
   "cell_type": "code",
   "execution_count": 9,
   "id": "5609ddea-eea0-4f69-b63b-f7f6228c4703",
   "metadata": {},
   "outputs": [],
   "source": [
    "def histedges_from_grid(grid):\n",
    "    grid_spacings = grid.step()\n",
    "    grid_bounds = grid.bounds()\n",
    "\n",
    "    edges_lims = []\n",
    "    for bounds, spacing in zip(grid_bounds, grid_spacings):\n",
    "        edges_lims.append([bounds[0] - spacing/2, bounds[1] + spacing/2])\n",
    "\n",
    "    return np.array(edges_lims), grid.shape"
   ]
  },
  {
   "cell_type": "code",
   "execution_count": 10,
   "id": "0870fd68-dd35-4960-9550-dae3f17e34d9",
   "metadata": {},
   "outputs": [],
   "source": [
    "def get_empirical_distribution(samples, grid):\n",
    "    edges_ranges, n_bins = histedges_from_grid(grid)\n",
    "    hist = np.histogram2d(samples[:, 1], samples[:, 0], n_bins, range=edges_ranges)[0]\n",
    "    \n",
    "    hist_slice = hist[:-1, :-1]\n",
    "    hist_slice[0, :] += hist[-1, :-1]\n",
    "    hist_slice[:, 0] += hist[:-1, -1]\n",
    "    hist_slice[0, 0] += hist[-1, -1]\n",
    "\n",
    "    return hist_slice / samples.shape[0]"
   ]
  },
  {
   "cell_type": "code",
   "execution_count": 11,
   "id": "35a88284-1b36-4394-a430-9c84103b9043",
   "metadata": {},
   "outputs": [],
   "source": [
    "def calculate_l2(piecewise_estimated, piecewise_empirical):\n",
    "    return np.sum((piecewise_empirical - piecewise_estimated)**2)"
   ]
  },
  {
   "cell_type": "code",
   "execution_count": 12,
   "id": "f9ce99f2-f6fe-42a0-b951-6a9542d42892",
   "metadata": {},
   "outputs": [],
   "source": [
    "def calculate_l2_diff(piecewise_estimated1, piecewise_estimated2, piecewise_empirical):\n",
    "    l1 = (piecewise_empirical - piecewise_estimated1)**2\n",
    "    l2 = (piecewise_empirical - piecewise_estimated2)**2\n",
    "\n",
    "    return l2 - l1"
   ]
  },
  {
   "cell_type": "code",
   "execution_count": 13,
   "id": "54d5055a-20ef-4ea5-8c2c-30c94e10ee3a",
   "metadata": {},
   "outputs": [],
   "source": [
    "def kl_divergence(piecewise1, piecewise2):\n",
    "    mask_nonzero = piecewise1 > 0\n",
    "    return np.sum(piecewise1[mask_nonzero] * (np.log(piecewise1[mask_nonzero]) - np.log(piecewise2[mask_nonzero])))"
   ]
  },
  {
   "cell_type": "code",
   "execution_count": 14,
   "id": "b623cf80-3023-4e22-a3e3-4153e726b710",
   "metadata": {},
   "outputs": [],
   "source": [
    "def js_divergence(piecewise1, piecewise2):\n",
    "    m = 0.5 * (piecewise1 + piecewise2)\n",
    "    \n",
    "    return 0.5 * (kl_divergence(piecewise1, m) + kl_divergence(piecewise2, m))"
   ]
  },
  {
   "cell_type": "markdown",
   "id": "a155795e-d83d-4328-8439-0a5423cc0473",
   "metadata": {},
   "source": [
    "## Run loop"
   ]
  },
  {
   "cell_type": "code",
   "execution_count": 15,
   "id": "7c69bca3-b183-4612-b5ac-3043fbb580c9",
   "metadata": {},
   "outputs": [],
   "source": [
    "grid_sizes = [500]\n",
    "n_sample_sizes = 15\n",
    "n_reps = 20\n",
    "\n",
    "estimators = {\"parallel\": \"pkde\", \"rot\": \"scipy\"}\n",
    "indicators = {\"l2\": calculate_l2, \"jensen_shannon\": js_divergence}"
   ]
  },
  {
   "cell_type": "code",
   "execution_count": 16,
   "id": "a4fe6e24-19d6-43ff-9a8a-d39be4859207",
   "metadata": {},
   "outputs": [
    {
     "data": {
      "application/vnd.jupyter.widget-view+json": {
       "model_id": "0ab569db121d4fc3a38394901ffa9663",
       "version_major": 2,
       "version_minor": 0
      },
      "text/plain": [
       "Iterating sample sizes...:   0%|          | 0/7 [00:00<?, ?it/s]"
      ]
     },
     "metadata": {},
     "output_type": "display_data"
    },
    {
     "data": {
      "application/vnd.jupyter.widget-view+json": {
       "model_id": "66f766d6fc4f4cdba9242c5dff472806",
       "version_major": 2,
       "version_minor": 0
      },
      "text/plain": [
       "  0%|          | 0/20 [00:00<?, ?it/s]"
      ]
     },
     "metadata": {},
     "output_type": "display_data"
    },
    {
     "data": {
      "application/vnd.jupyter.widget-view+json": {
       "model_id": "19576709073d4210bf4816a909fcf24b",
       "version_major": 2,
       "version_minor": 0
      },
      "text/plain": [
       "  0%|          | 0/20 [00:00<?, ?it/s]"
      ]
     },
     "metadata": {},
     "output_type": "display_data"
    },
    {
     "data": {
      "application/vnd.jupyter.widget-view+json": {
       "model_id": "55982e0e87af49e0996694a76c284e66",
       "version_major": 2,
       "version_minor": 0
      },
      "text/plain": [
       "  0%|          | 0/20 [00:00<?, ?it/s]"
      ]
     },
     "metadata": {},
     "output_type": "display_data"
    },
    {
     "data": {
      "application/vnd.jupyter.widget-view+json": {
       "model_id": "9390a61785624cbf8e5a87a53df88e41",
       "version_major": 2,
       "version_minor": 0
      },
      "text/plain": [
       "  0%|          | 0/20 [00:00<?, ?it/s]"
      ]
     },
     "metadata": {},
     "output_type": "display_data"
    },
    {
     "data": {
      "application/vnd.jupyter.widget-view+json": {
       "model_id": "87fe20bf1a11458b900cdace72d93544",
       "version_major": 2,
       "version_minor": 0
      },
      "text/plain": [
       "  0%|          | 0/20 [00:00<?, ?it/s]"
      ]
     },
     "metadata": {},
     "output_type": "display_data"
    },
    {
     "data": {
      "application/vnd.jupyter.widget-view+json": {
       "model_id": "d7d86665ac714fdfba93499dae75cc7b",
       "version_major": 2,
       "version_minor": 0
      },
      "text/plain": [
       "  0%|          | 0/20 [00:00<?, ?it/s]"
      ]
     },
     "metadata": {},
     "output_type": "display_data"
    },
    {
     "data": {
      "application/vnd.jupyter.widget-view+json": {
       "model_id": "8acac7c8f96a4205bc8b847a289022b5",
       "version_major": 2,
       "version_minor": 0
      },
      "text/plain": [
       "  0%|          | 0/20 [00:00<?, ?it/s]"
      ]
     },
     "metadata": {},
     "output_type": "display_data"
    }
   ],
   "source": [
    "results_rows = []\n",
    "for grid_size in grid_sizes:\n",
    "    grid = generate_grid(grid_size)\n",
    "\n",
    "    piecewise_empirical = get_empirical_distribution(samples_test, grid)\n",
    "\n",
    "    for step_iter in tqdm(range(n_sample_sizes)[::-1][:7], desc=\"Iterating sample sizes...\"):\n",
    "        step_size = iter_to_stepsize(step_iter)\n",
    "        n_samples = samples_train[:, ::step_size].shape[1]\n",
    "\n",
    "        for rep in trange(n_reps):\n",
    "            samples = subsample_shuffle(step_size)\n",
    "\n",
    "            for estimator_name, estimator in estimators.items():\n",
    "                density_estimated = estimate_density(samples, grid, estimator)\n",
    "                piecewise_estimated = get_piecewise_density(density_estimated, grid)\n",
    "\n",
    "                for indicator, indicator_function in indicators.items():\n",
    "                    indicator_value = indicator_function(piecewise_estimated, piecewise_empirical)\n",
    "\n",
    "                    result_rows = {\n",
    "                        \"grid_size\": grid_size,\n",
    "                        \"n_samples\": n_samples,\n",
    "                        \"estimator\": estimator_name,\n",
    "                        \"indicator\": indicator,\n",
    "                        \"rep\": rep,\n",
    "                        \"value\": indicator_value,\n",
    "                    }\n",
    "\n",
    "                    results_rows.append(result_rows)\n",
    "\n",
    "results_df = pd.DataFrame.from_records(results_rows)[[\"grid_size\", \"n_samples\", \"estimator\", \"indicator\", \"rep\", \"value\"]]"
   ]
  }
 ],
 "metadata": {
  "kernelspec": {
   "display_name": "Python [conda env:py312_parallelkde]",
   "language": "python",
   "name": "conda-env-py312_parallelkde-py"
  },
  "language_info": {
   "codemirror_mode": {
    "name": "ipython",
    "version": 3
   },
   "file_extension": ".py",
   "mimetype": "text/x-python",
   "name": "python",
   "nbconvert_exporter": "python",
   "pygments_lexer": "ipython3",
   "version": "3.12.11"
  }
 },
 "nbformat": 4,
 "nbformat_minor": 5
}
