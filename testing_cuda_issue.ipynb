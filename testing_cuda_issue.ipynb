{
 "cells": [
  {
   "cell_type": "markdown",
   "id": "d4d5b1b6-024d-4119-b3c3-9a7429106e11",
   "metadata": {},
   "source": [
    "# Testing GPU issue"
   ]
  },
  {
   "cell_type": "code",
   "execution_count": 1,
   "id": "a6207f68-4989-488c-8745-f6e6b74be094",
   "metadata": {},
   "outputs": [
    {
     "name": "stdout",
     "output_type": "stream",
     "text": [
      "Detected IPython. Loading juliacall extension. See https://juliapy.github.io/PythonCall.jl/stable/compat/#IPython\n"
     ]
    }
   ],
   "source": [
    "import numpy as np\n",
    "from scipy.stats import multivariate_normal\n",
    "\n",
    "from tqdm.notebook import trange\n",
    "\n",
    "import parallelkdepy as pkde"
   ]
  },
  {
   "cell_type": "code",
   "execution_count": 2,
   "id": "d1a9b2b0-6462-4c5a-99ea-a3af93e8e0a4",
   "metadata": {},
   "outputs": [],
   "source": [
    "mu = np.zeros(2)\n",
    "cov = np.identity(2)\n",
    "\n",
    "rv = multivariate_normal(mean=mu, cov=cov, allow_singular=False)"
   ]
  },
  {
   "cell_type": "code",
   "execution_count": 3,
   "id": "ce46c01e-1d34-4450-8408-71c282bd5d4e",
   "metadata": {},
   "outputs": [],
   "source": [
    "def estimate_density(samples, grid):    \n",
    "    density_estimation = pkde.DensityEstimation(samples, grid=grid, device=\"cuda\")\n",
    "    density_estimation.estimate_density(\"parallelEstimator\", method=\"cuda\")\n",
    "    \n",
    "    density_estimated = density_estimation.get_density()\n",
    "\n",
    "    return density_estimated"
   ]
  },
  {
   "cell_type": "markdown",
   "id": "ecefa556-791f-4aeb-9a7e-aafbfa6d6d4f",
   "metadata": {},
   "source": [
    "### Grid and compile"
   ]
  },
  {
   "cell_type": "code",
   "execution_count": 4,
   "id": "0f033627-d1ed-4e95-9fee-a3593c82d552",
   "metadata": {},
   "outputs": [],
   "source": [
    "grid_min = -8\n",
    "grid_max = 8\n",
    "grid_size = 500\n",
    "\n",
    "grid = pkde.Grid([(grid_min, grid_max, grid_size)]*2, device=\"cuda\")"
   ]
  },
  {
   "cell_type": "code",
   "execution_count": 5,
   "id": "388cf88c-ee37-4e1c-8d17-c1cdc0b15aec",
   "metadata": {},
   "outputs": [],
   "source": [
    "samples = rv.rvs(size=10000)\n",
    "density_estimated = estimate_density(samples, grid)"
   ]
  },
  {
   "cell_type": "markdown",
   "id": "5c6db554-2a46-4bec-aa17-8ff527169b43",
   "metadata": {},
   "source": [
    "## Run loop"
   ]
  },
  {
   "cell_type": "markdown",
   "id": "e9a3e69e-bd49-4c46-9fe6-542a9a12dcc8",
   "metadata": {},
   "source": [
    "Remove pieces that call to julia until we find the one that crashes. Then work from there."
   ]
  },
  {
   "cell_type": "code",
   "execution_count": null,
   "id": "d263c2a4-b615-45f0-b309-40f925a986aa",
   "metadata": {},
   "outputs": [
    {
     "data": {
      "application/vnd.jupyter.widget-view+json": {
       "model_id": "95cdd8cf123d4ee0977e8e369949f19f",
       "version_major": 2,
       "version_minor": 0
      },
      "text/plain": [
       "  0%|          | 0/1000 [00:00<?, ?it/s]"
      ]
     },
     "metadata": {},
     "output_type": "display_data"
    }
   ],
   "source": [
    "n_reps = 1000\n",
    "for _ in trange(n_reps):\n",
    "    samples = rv.rvs(size=10000)\n",
    "    density_estimated = estimate_density(samples, grid)"
   ]
  },
  {
   "cell_type": "markdown",
   "id": "8e74bed6-8836-4e57-94c8-60d9986c05c6",
   "metadata": {},
   "source": [
    "## Testing JuliaCall"
   ]
  },
  {
   "cell_type": "code",
   "execution_count": 1,
   "id": "01167c1c-de5a-4cbe-8dc2-eca7793b1585",
   "metadata": {},
   "outputs": [
    {
     "name": "stdout",
     "output_type": "stream",
     "text": [
      "Detected IPython. Loading juliacall extension. See https://juliapy.github.io/PythonCall.jl/stable/compat/#IPython\n"
     ]
    }
   ],
   "source": [
    "import numpy as np\n",
    "from juliacall import Main as jl"
   ]
  },
  {
   "cell_type": "code",
   "execution_count": 2,
   "id": "bd090dcc-ac50-4b84-b3b2-0229cc30f15d",
   "metadata": {},
   "outputs": [],
   "source": [
    "jl.seval(\"using ParallelKDE\")\n",
    "jl.seval(\"using CUDA\")"
   ]
  },
  {
   "cell_type": "code",
   "execution_count": 3,
   "id": "f205297d-73af-49cd-af13-865bfade55d2",
   "metadata": {},
   "outputs": [],
   "source": [
    "arr_d = jl.CUDA.rand(10,10)"
   ]
  },
  {
   "cell_type": "code",
   "execution_count": 4,
   "id": "8e18601e-d7b7-44ec-9a1b-c452b77db12b",
   "metadata": {},
   "outputs": [
    {
     "data": {
      "text/plain": [
       "juliacall.ArrayValue"
      ]
     },
     "execution_count": 4,
     "metadata": {},
     "output_type": "execute_result"
    }
   ],
   "source": [
    "type(arr_d)"
   ]
  },
  {
   "cell_type": "code",
   "execution_count": 5,
   "id": "2662baa8-efd4-4738-a146-14f120bf2866",
   "metadata": {},
   "outputs": [
    {
     "data": {
      "text/plain": [
       "CuArray{Float32, 2, CUDA.DeviceMemory}"
      ]
     },
     "execution_count": 5,
     "metadata": {},
     "output_type": "execute_result"
    }
   ],
   "source": [
    "jl.typeof(arr_d)"
   ]
  },
  {
   "cell_type": "code",
   "execution_count": 6,
   "id": "fdb0d589-00f9-4101-b037-aa87ecf1ac66",
   "metadata": {},
   "outputs": [
    {
     "data": {
      "text/plain": [
       "True"
      ]
     },
     "execution_count": 6,
     "metadata": {},
     "output_type": "execute_result"
    }
   ],
   "source": [
    "jl.isa(arr_d, jl.CuArray)"
   ]
  },
  {
   "cell_type": "code",
   "execution_count": 8,
   "id": "819c337a-847e-456e-9915-d6bcf4415738",
   "metadata": {},
   "outputs": [
    {
     "data": {
      "text/plain": [
       "(10, 10)"
      ]
     },
     "execution_count": 8,
     "metadata": {},
     "output_type": "execute_result"
    }
   ],
   "source": [
    "jl.size(arr_d)"
   ]
  },
  {
   "cell_type": "code",
   "execution_count": 9,
   "id": "cfbf1256-7acb-4103-88c9-277046476518",
   "metadata": {},
   "outputs": [
    {
     "data": {
      "text/plain": [
       "(10, 10)"
      ]
     },
     "execution_count": 9,
     "metadata": {},
     "output_type": "execute_result"
    }
   ],
   "source": [
    "arr_d.shape"
   ]
  },
  {
   "cell_type": "code",
   "execution_count": 10,
   "id": "22460f50-7872-4927-befd-e18832cdef51",
   "metadata": {},
   "outputs": [],
   "source": [
    "arr = jl.Array(arr_d)"
   ]
  },
  {
   "cell_type": "code",
   "execution_count": 11,
   "id": "e0d1b1f1-14af-4792-9657-8db59dfb841d",
   "metadata": {},
   "outputs": [],
   "source": [
    "arr_np = arr.to_numpy()"
   ]
  }
 ],
 "metadata": {
  "kernelspec": {
   "display_name": "Python [conda env:py312_parallelkde]",
   "language": "python",
   "name": "conda-env-py312_parallelkde-py"
  },
  "language_info": {
   "codemirror_mode": {
    "name": "ipython",
    "version": 3
   },
   "file_extension": ".py",
   "mimetype": "text/x-python",
   "name": "python",
   "nbconvert_exporter": "python",
   "pygments_lexer": "ipython3",
   "version": "3.12.11"
  }
 },
 "nbformat": 4,
 "nbformat_minor": 5
}
